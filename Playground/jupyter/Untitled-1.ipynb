{
 "metadata": {
  "language_info": {
   "codemirror_mode": {
    "name": "ipython",
    "version": 3
   },
   "file_extension": ".py",
   "mimetype": "text/x-python",
   "name": "python",
   "nbconvert_exporter": "python",
   "pygments_lexer": "ipython3",
   "version": "3.9.4"
  },
  "orig_nbformat": 2,
  "kernelspec": {
   "name": "python394jvsc74a57bd0266817064e548772ee6e8fd4a6ef3b230e60eec7e978c53ff5e842820ea93e45",
   "display_name": "Python 3.9.4 64-bit"
  },
  "metadata": {
   "interpreter": {
    "hash": "266817064e548772ee6e8fd4a6ef3b230e60eec7e978c53ff5e842820ea93e45"
   }
  }
 },
 "nbformat": 4,
 "nbformat_minor": 2,
 "cells": [
  {
   "cell_type": "code",
   "execution_count": 4,
   "metadata": {},
   "outputs": [
    {
     "output_type": "stream",
     "name": "stdout",
     "text": [
      "hello\n"
     ]
    }
   ],
   "source": [
    "print('hello')"
   ]
  },
  {
   "cell_type": "code",
   "execution_count": 30,
   "metadata": {},
   "outputs": [
    {
     "output_type": "stream",
     "name": "stdout",
     "text": [
      "orange\norange\napple\norange\nbanana\n"
     ]
    }
   ],
   "source": [
    "import random\n",
    "words = ['apple', 'banana', 'orange']\n",
    "for i in range(5):\n",
    "    word = random.choice(words)\n",
    "    print(word)"
   ]
  },
  {
   "source": [
    "import random as r"
   ],
   "cell_type": "code",
   "metadata": {},
   "execution_count": 3,
   "outputs": []
  },
  {
   "cell_type": "code",
   "execution_count": 4,
   "metadata": {},
   "outputs": [
    {
     "output_type": "stream",
     "name": "stdout",
     "text": [
      "0 --> 0.8496900264112411\n1 --> 0.9805494027194093\n2 --> 0.9881201073187652\n3 --> 0.09854897320552758\n4 --> 0.3914188628477253\n5 --> 0.15844359589891255\n6 --> 0.12311306070640815\n7 --> 0.8041034342384763\n8 --> 0.38717095134076607\n9 --> 0.7281642458893542\n"
     ]
    }
   ],
   "source": [
    "for i in range(10):\n",
    "    print(i, '-->', r.random())"
   ]
  },
  {
   "cell_type": "code",
   "execution_count": 6,
   "metadata": {},
   "outputs": [
    {
     "output_type": "stream",
     "name": "stdout",
     "text": [
      "0 --> 21\n1 --> 10\n2 --> 39\n3 --> 21\n4 --> 2\n5 --> 14\n6 --> 17\n7 --> 9\n8 --> 12\n9 --> 3\n"
     ]
    }
   ],
   "source": [
    "for i in range(10):\n",
    "    print(i, '-->', r.randint(1, 50))"
   ]
  },
  {
   "cell_type": "code",
   "execution_count": 93,
   "metadata": {},
   "outputs": [
    {
     "output_type": "execute_result",
     "data": {
      "text/plain": [
       "[25, 24, 15, 17, 5, 36]"
      ]
     },
     "metadata": {},
     "execution_count": 93
    }
   ],
   "source": [
    "# lotto = [r.randint(1, 45) for x in range(6) if lotto not in lotto]\n",
    "temp = []\n",
    "while True:\n",
    "    if len(temp) == 6:\n",
    "        break\n",
    "    x = r.randint(1, 45)\n",
    "    if x not in temp:\n",
    "        temp.append(x)\n",
    "\n",
    "lotto = temp\n",
    "lotto"
   ]
  },
  {
   "source": [
    "import os\n",
    "# os.mkdir('C:\\\\DB\\\\myProgram')\n",
    "os.getcwd()\n",
    "os.chdir('C:\\\\DB\\\\myProgram')\n",
    "os.getcwd()"
   ],
   "cell_type": "code",
   "metadata": {},
   "execution_count": 105,
   "outputs": [
    {
     "output_type": "execute_result",
     "data": {
      "text/plain": [
       "'C:\\\\DB\\\\myProgram'"
      ]
     },
     "metadata": {},
     "execution_count": 105
    }
   ]
  },
  {
   "cell_type": "code",
   "execution_count": 109,
   "metadata": {},
   "outputs": [],
   "source": [
    "for i in range(1, 11):\n",
    "    with open(f'{i}일차.txt', 'w', encoding='utf8') as f:\n",
    "        f.write(f'{i}일차 일간보고')\n"
   ]
  },
  {
   "cell_type": "code",
   "execution_count": 126,
   "metadata": {},
   "outputs": [],
   "source": [
    "import os\n",
    "# os.system('start chrome')"
   ]
  },
  {
   "cell_type": "code",
   "execution_count": null,
   "metadata": {},
   "outputs": [],
   "source": [
    "# import os\n",
    "# while True:\n",
    "#     print('1. 메모장')\n",
    "#     print('2. 계산기')\n",
    "#     print('3. 그림판')\n",
    "#     print('4. 크롬')\n",
    "#     print('5. 종료')\n",
    "\n",
    "#     choice = int(input('select number >>> '))\n",
    "#     if choice == 1:\n",
    "#         os.system('notepad')\n",
    "#     if choice == 2:\n",
    "#         os.system('calc')\n",
    "#     if choice == 3:\n",
    "#         os.system('mspaint')\n",
    "#     if choice == 4:\n",
    "#         os.system('start chrome')\n",
    "#     if choice == 5:\n",
    "#         break"
   ]
  },
  {
   "cell_type": "code",
   "execution_count": 1,
   "metadata": {},
   "outputs": [
    {
     "output_type": "execute_result",
     "data": {
      "text/plain": [
       "'3.9.4 (tags/v3.9.4:1f2e308, Apr  6 2021, 13:40:21) [MSC v.1928 64 bit (AMD64)]'"
      ]
     },
     "metadata": {},
     "execution_count": 1
    }
   ],
   "source": [
    "import sys\n",
    "sys.version"
   ]
  },
  {
   "cell_type": "code",
   "execution_count": 2,
   "metadata": {},
   "outputs": [
    {
     "output_type": "execute_result",
     "data": {
      "text/plain": [
       "9223372036854775807"
      ]
     },
     "metadata": {},
     "execution_count": 2
    }
   ],
   "source": [
    "sys.maxsize"
   ]
  },
  {
   "cell_type": "code",
   "execution_count": 3,
   "metadata": {},
   "outputs": [
    {
     "output_type": "execute_result",
     "data": {
      "text/plain": [
       "'little'"
      ]
     },
     "metadata": {},
     "execution_count": 3
    }
   ],
   "source": [
    "sys.byteorder"
   ]
  },
  {
   "cell_type": "code",
   "execution_count": 8,
   "metadata": {},
   "outputs": [
    {
     "output_type": "stream",
     "name": "stdout",
     "text": [
      "c:\\Users\\CPB06GameN\\Documents\\GitHub\\PythonProject\\Playground\\jupyter\n['files', 'Untitled-1.ipynb', 'Untitled.ipynb', 'Untitled1.ipynb', 'Untitled2.ipynb']\n"
     ]
    }
   ],
   "source": [
    "print(os.getcwd())\n",
    "print(os.listdir())"
   ]
  },
  {
   "cell_type": "code",
   "execution_count": 21,
   "metadata": {
    "tags": []
   },
   "outputs": [],
   "source": [
    "# import turtle\n",
    "# turtle.turtles()\n",
    "# turtle.forward(100)"
   ]
  }
 ]
}