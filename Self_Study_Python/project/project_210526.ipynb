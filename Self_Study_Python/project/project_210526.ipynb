{
  "nbformat": 4,
  "nbformat_minor": 0,
  "metadata": {
    "colab": {
      "name": "project_210526.ipynb",
      "provenance": [],
      "collapsed_sections": []
    },
    "kernelspec": {
      "name": "python3",
      "display_name": "Python 3"
    },
    "language_info": {
      "name": "python"
    }
  },
  "cells": [
    {
      "cell_type": "code",
      "metadata": {
        "colab": {
          "base_uri": "https://localhost:8080/"
        },
        "id": "RbJY8479PRdz",
        "outputId": "8ed97b52-3d22-4d46-8462-7757702a0d95"
      },
      "source": [
        "%matplotlib inline  \n",
        "\n",
        "import matplotlib as mpl \n",
        "import matplotlib.pyplot as plt \n",
        "import matplotlib.font_manager as fm  \n",
        "\n",
        "!apt-get update -qq\n",
        "!apt-get install fonts-nanum* -qq\n",
        "\n",
        "path = '/usr/share/fonts/truetype/nanum/NanumBarunGothic.ttf' \n",
        "font_name = fm.FontProperties(fname=path, size=10).get_name()\n",
        "print(font_name)\n",
        "plt.rc('font', family=font_name)\n",
        "\n",
        "fm._rebuild()\n",
        "mpl.rcParams['axes.unicode_minus'] = False"
      ],
      "execution_count": 1,
      "outputs": [
        {
          "output_type": "stream",
          "text": [
            "NanumBarunGothic\n"
          ],
          "name": "stdout"
        }
      ]
    },
    {
      "cell_type": "code",
      "metadata": {
        "id": "leoywcrfSIDw"
      },
      "source": [
        "import pandas as pd\n",
        "import numpy as np\n",
        "import matplotlib.pyplot as plt"
      ],
      "execution_count": 2,
      "outputs": []
    },
    {
      "cell_type": "code",
      "metadata": {
        "colab": {
          "base_uri": "https://localhost:8080/",
          "height": 787
        },
        "id": "RGQi2czSSP6G",
        "outputId": "0ae33de1-088f-4b0c-bb75-eee5bc124dfc"
      },
      "source": [
        "dep_total_2019 = pd.read_csv('/content/drive/MyDrive/bigdata_team3/Source/dep_total_year/dep_total_2019.csv', encoding='cp949', thousands=',')\n",
        "dep_total_2019\n",
        "dep_total_2020 = pd.read_csv('/content/drive/MyDrive/bigdata_team3/Source/dep_total_year/dep_total_2020.csv', encoding='cp949', thousands=',')\n",
        "dep_total_2020\n",
        "rent_total_2019 = pd.read_csv('/content/drive/MyDrive/bigdata_team3/Source/rent_total_year/rent_total_2019.csv', encoding='cp949', thousands=',')\n",
        "rent_total_2019\n",
        "rent_total_2020 = pd.read_csv('/content/drive/MyDrive/bigdata_team3/Source/rent_total_year/rent_total_2020.csv', encoding='cp949', thousands=',')\n",
        "rent_total_2020\n",
        "dep_total_2019"
      ],
      "execution_count": 3,
      "outputs": [
        {
          "output_type": "execute_result",
          "data": {
            "text/html": [
              "<div>\n",
              "<style scoped>\n",
              "    .dataframe tbody tr th:only-of-type {\n",
              "        vertical-align: middle;\n",
              "    }\n",
              "\n",
              "    .dataframe tbody tr th {\n",
              "        vertical-align: top;\n",
              "    }\n",
              "\n",
              "    .dataframe thead th {\n",
              "        text-align: right;\n",
              "    }\n",
              "</style>\n",
              "<table border=\"1\" class=\"dataframe\">\n",
              "  <thead>\n",
              "    <tr style=\"text-align: right;\">\n",
              "      <th></th>\n",
              "      <th>자치구</th>\n",
              "      <th>201901</th>\n",
              "      <th>201902</th>\n",
              "      <th>201903</th>\n",
              "      <th>201904</th>\n",
              "      <th>201905</th>\n",
              "      <th>201906</th>\n",
              "      <th>201907</th>\n",
              "      <th>201908</th>\n",
              "      <th>201909</th>\n",
              "      <th>201910</th>\n",
              "      <th>201911</th>\n",
              "      <th>201912</th>\n",
              "    </tr>\n",
              "  </thead>\n",
              "  <tbody>\n",
              "    <tr>\n",
              "      <th>0</th>\n",
              "      <td>강남구</td>\n",
              "      <td>1210</td>\n",
              "      <td>1210</td>\n",
              "      <td>1210</td>\n",
              "      <td>1210</td>\n",
              "      <td>1210</td>\n",
              "      <td>1210</td>\n",
              "      <td>1210</td>\n",
              "      <td>1210</td>\n",
              "      <td>1210</td>\n",
              "      <td>1210</td>\n",
              "      <td>1218</td>\n",
              "      <td>1218</td>\n",
              "    </tr>\n",
              "    <tr>\n",
              "      <th>1</th>\n",
              "      <td>강동구</td>\n",
              "      <td>773</td>\n",
              "      <td>773</td>\n",
              "      <td>773</td>\n",
              "      <td>773</td>\n",
              "      <td>773</td>\n",
              "      <td>773</td>\n",
              "      <td>773</td>\n",
              "      <td>773</td>\n",
              "      <td>773</td>\n",
              "      <td>773</td>\n",
              "      <td>763</td>\n",
              "      <td>763</td>\n",
              "    </tr>\n",
              "    <tr>\n",
              "      <th>2</th>\n",
              "      <td>강북구</td>\n",
              "      <td>451</td>\n",
              "      <td>451</td>\n",
              "      <td>451</td>\n",
              "      <td>451</td>\n",
              "      <td>451</td>\n",
              "      <td>451</td>\n",
              "      <td>451</td>\n",
              "      <td>451</td>\n",
              "      <td>451</td>\n",
              "      <td>451</td>\n",
              "      <td>451</td>\n",
              "      <td>451</td>\n",
              "    </tr>\n",
              "    <tr>\n",
              "      <th>3</th>\n",
              "      <td>강서구</td>\n",
              "      <td>1014</td>\n",
              "      <td>1014</td>\n",
              "      <td>1014</td>\n",
              "      <td>1014</td>\n",
              "      <td>1014</td>\n",
              "      <td>1014</td>\n",
              "      <td>1014</td>\n",
              "      <td>1014</td>\n",
              "      <td>1014</td>\n",
              "      <td>1014</td>\n",
              "      <td>1002</td>\n",
              "      <td>1002</td>\n",
              "    </tr>\n",
              "    <tr>\n",
              "      <th>4</th>\n",
              "      <td>관악구</td>\n",
              "      <td>652</td>\n",
              "      <td>652</td>\n",
              "      <td>652</td>\n",
              "      <td>652</td>\n",
              "      <td>652</td>\n",
              "      <td>652</td>\n",
              "      <td>652</td>\n",
              "      <td>652</td>\n",
              "      <td>652</td>\n",
              "      <td>652</td>\n",
              "      <td>640</td>\n",
              "      <td>640</td>\n",
              "    </tr>\n",
              "    <tr>\n",
              "      <th>5</th>\n",
              "      <td>광진구</td>\n",
              "      <td>793</td>\n",
              "      <td>793</td>\n",
              "      <td>793</td>\n",
              "      <td>793</td>\n",
              "      <td>793</td>\n",
              "      <td>793</td>\n",
              "      <td>793</td>\n",
              "      <td>793</td>\n",
              "      <td>793</td>\n",
              "      <td>793</td>\n",
              "      <td>841</td>\n",
              "      <td>841</td>\n",
              "    </tr>\n",
              "    <tr>\n",
              "      <th>6</th>\n",
              "      <td>구로구</td>\n",
              "      <td>728</td>\n",
              "      <td>728</td>\n",
              "      <td>728</td>\n",
              "      <td>728</td>\n",
              "      <td>728</td>\n",
              "      <td>728</td>\n",
              "      <td>728</td>\n",
              "      <td>728</td>\n",
              "      <td>728</td>\n",
              "      <td>728</td>\n",
              "      <td>788</td>\n",
              "      <td>788</td>\n",
              "    </tr>\n",
              "    <tr>\n",
              "      <th>7</th>\n",
              "      <td>금천구</td>\n",
              "      <td>540</td>\n",
              "      <td>540</td>\n",
              "      <td>540</td>\n",
              "      <td>540</td>\n",
              "      <td>540</td>\n",
              "      <td>540</td>\n",
              "      <td>540</td>\n",
              "      <td>540</td>\n",
              "      <td>540</td>\n",
              "      <td>540</td>\n",
              "      <td>560</td>\n",
              "      <td>560</td>\n",
              "    </tr>\n",
              "    <tr>\n",
              "      <th>8</th>\n",
              "      <td>노원구</td>\n",
              "      <td>850</td>\n",
              "      <td>850</td>\n",
              "      <td>850</td>\n",
              "      <td>850</td>\n",
              "      <td>850</td>\n",
              "      <td>850</td>\n",
              "      <td>850</td>\n",
              "      <td>850</td>\n",
              "      <td>850</td>\n",
              "      <td>850</td>\n",
              "      <td>879</td>\n",
              "      <td>879</td>\n",
              "    </tr>\n",
              "    <tr>\n",
              "      <th>9</th>\n",
              "      <td>도봉구</td>\n",
              "      <td>423</td>\n",
              "      <td>423</td>\n",
              "      <td>423</td>\n",
              "      <td>423</td>\n",
              "      <td>423</td>\n",
              "      <td>423</td>\n",
              "      <td>423</td>\n",
              "      <td>423</td>\n",
              "      <td>423</td>\n",
              "      <td>423</td>\n",
              "      <td>396</td>\n",
              "      <td>396</td>\n",
              "    </tr>\n",
              "    <tr>\n",
              "      <th>10</th>\n",
              "      <td>동대문구</td>\n",
              "      <td>653</td>\n",
              "      <td>653</td>\n",
              "      <td>653</td>\n",
              "      <td>653</td>\n",
              "      <td>653</td>\n",
              "      <td>653</td>\n",
              "      <td>653</td>\n",
              "      <td>653</td>\n",
              "      <td>653</td>\n",
              "      <td>653</td>\n",
              "      <td>659</td>\n",
              "      <td>659</td>\n",
              "    </tr>\n",
              "    <tr>\n",
              "      <th>11</th>\n",
              "      <td>동작구</td>\n",
              "      <td>501</td>\n",
              "      <td>501</td>\n",
              "      <td>501</td>\n",
              "      <td>501</td>\n",
              "      <td>501</td>\n",
              "      <td>501</td>\n",
              "      <td>501</td>\n",
              "      <td>501</td>\n",
              "      <td>501</td>\n",
              "      <td>501</td>\n",
              "      <td>501</td>\n",
              "      <td>501</td>\n",
              "    </tr>\n",
              "    <tr>\n",
              "      <th>12</th>\n",
              "      <td>마포구</td>\n",
              "      <td>1062</td>\n",
              "      <td>1062</td>\n",
              "      <td>1062</td>\n",
              "      <td>1062</td>\n",
              "      <td>1062</td>\n",
              "      <td>1062</td>\n",
              "      <td>1062</td>\n",
              "      <td>1062</td>\n",
              "      <td>1062</td>\n",
              "      <td>1062</td>\n",
              "      <td>1075</td>\n",
              "      <td>1075</td>\n",
              "    </tr>\n",
              "    <tr>\n",
              "      <th>13</th>\n",
              "      <td>서대문구</td>\n",
              "      <td>695</td>\n",
              "      <td>695</td>\n",
              "      <td>695</td>\n",
              "      <td>695</td>\n",
              "      <td>695</td>\n",
              "      <td>695</td>\n",
              "      <td>695</td>\n",
              "      <td>695</td>\n",
              "      <td>695</td>\n",
              "      <td>695</td>\n",
              "      <td>667</td>\n",
              "      <td>667</td>\n",
              "    </tr>\n",
              "    <tr>\n",
              "      <th>14</th>\n",
              "      <td>서초구</td>\n",
              "      <td>1214</td>\n",
              "      <td>1214</td>\n",
              "      <td>1214</td>\n",
              "      <td>1214</td>\n",
              "      <td>1214</td>\n",
              "      <td>1214</td>\n",
              "      <td>1214</td>\n",
              "      <td>1214</td>\n",
              "      <td>1214</td>\n",
              "      <td>1214</td>\n",
              "      <td>1227</td>\n",
              "      <td>1227</td>\n",
              "    </tr>\n",
              "    <tr>\n",
              "      <th>15</th>\n",
              "      <td>성동구</td>\n",
              "      <td>780</td>\n",
              "      <td>780</td>\n",
              "      <td>780</td>\n",
              "      <td>780</td>\n",
              "      <td>780</td>\n",
              "      <td>780</td>\n",
              "      <td>780</td>\n",
              "      <td>780</td>\n",
              "      <td>780</td>\n",
              "      <td>780</td>\n",
              "      <td>780</td>\n",
              "      <td>780</td>\n",
              "    </tr>\n",
              "    <tr>\n",
              "      <th>16</th>\n",
              "      <td>성북구</td>\n",
              "      <td>712</td>\n",
              "      <td>712</td>\n",
              "      <td>712</td>\n",
              "      <td>712</td>\n",
              "      <td>712</td>\n",
              "      <td>712</td>\n",
              "      <td>712</td>\n",
              "      <td>712</td>\n",
              "      <td>712</td>\n",
              "      <td>712</td>\n",
              "      <td>726</td>\n",
              "      <td>726</td>\n",
              "    </tr>\n",
              "    <tr>\n",
              "      <th>17</th>\n",
              "      <td>송파구</td>\n",
              "      <td>1279</td>\n",
              "      <td>1279</td>\n",
              "      <td>1279</td>\n",
              "      <td>1279</td>\n",
              "      <td>1279</td>\n",
              "      <td>1279</td>\n",
              "      <td>1279</td>\n",
              "      <td>1279</td>\n",
              "      <td>1279</td>\n",
              "      <td>1279</td>\n",
              "      <td>1298</td>\n",
              "      <td>1298</td>\n",
              "    </tr>\n",
              "    <tr>\n",
              "      <th>18</th>\n",
              "      <td>양천구</td>\n",
              "      <td>663</td>\n",
              "      <td>663</td>\n",
              "      <td>663</td>\n",
              "      <td>663</td>\n",
              "      <td>663</td>\n",
              "      <td>663</td>\n",
              "      <td>663</td>\n",
              "      <td>663</td>\n",
              "      <td>663</td>\n",
              "      <td>663</td>\n",
              "      <td>677</td>\n",
              "      <td>677</td>\n",
              "    </tr>\n",
              "    <tr>\n",
              "      <th>19</th>\n",
              "      <td>영등포구</td>\n",
              "      <td>1258</td>\n",
              "      <td>1258</td>\n",
              "      <td>1258</td>\n",
              "      <td>1258</td>\n",
              "      <td>1258</td>\n",
              "      <td>1258</td>\n",
              "      <td>1258</td>\n",
              "      <td>1258</td>\n",
              "      <td>1258</td>\n",
              "      <td>1258</td>\n",
              "      <td>1258</td>\n",
              "      <td>1258</td>\n",
              "    </tr>\n",
              "    <tr>\n",
              "      <th>20</th>\n",
              "      <td>용산구</td>\n",
              "      <td>558</td>\n",
              "      <td>558</td>\n",
              "      <td>558</td>\n",
              "      <td>558</td>\n",
              "      <td>558</td>\n",
              "      <td>558</td>\n",
              "      <td>558</td>\n",
              "      <td>558</td>\n",
              "      <td>558</td>\n",
              "      <td>558</td>\n",
              "      <td>538</td>\n",
              "      <td>538</td>\n",
              "    </tr>\n",
              "    <tr>\n",
              "      <th>21</th>\n",
              "      <td>은평구</td>\n",
              "      <td>688</td>\n",
              "      <td>688</td>\n",
              "      <td>688</td>\n",
              "      <td>688</td>\n",
              "      <td>688</td>\n",
              "      <td>688</td>\n",
              "      <td>688</td>\n",
              "      <td>688</td>\n",
              "      <td>688</td>\n",
              "      <td>688</td>\n",
              "      <td>716</td>\n",
              "      <td>716</td>\n",
              "    </tr>\n",
              "    <tr>\n",
              "      <th>22</th>\n",
              "      <td>종로구</td>\n",
              "      <td>715</td>\n",
              "      <td>715</td>\n",
              "      <td>715</td>\n",
              "      <td>715</td>\n",
              "      <td>715</td>\n",
              "      <td>715</td>\n",
              "      <td>715</td>\n",
              "      <td>715</td>\n",
              "      <td>715</td>\n",
              "      <td>715</td>\n",
              "      <td>784</td>\n",
              "      <td>784</td>\n",
              "    </tr>\n",
              "    <tr>\n",
              "      <th>23</th>\n",
              "      <td>중 구</td>\n",
              "      <td>465</td>\n",
              "      <td>465</td>\n",
              "      <td>465</td>\n",
              "      <td>465</td>\n",
              "      <td>465</td>\n",
              "      <td>465</td>\n",
              "      <td>465</td>\n",
              "      <td>465</td>\n",
              "      <td>465</td>\n",
              "      <td>465</td>\n",
              "      <td>493</td>\n",
              "      <td>493</td>\n",
              "    </tr>\n",
              "    <tr>\n",
              "      <th>24</th>\n",
              "      <td>중랑구</td>\n",
              "      <td>616</td>\n",
              "      <td>616</td>\n",
              "      <td>616</td>\n",
              "      <td>616</td>\n",
              "      <td>616</td>\n",
              "      <td>616</td>\n",
              "      <td>616</td>\n",
              "      <td>616</td>\n",
              "      <td>616</td>\n",
              "      <td>616</td>\n",
              "      <td>616</td>\n",
              "      <td>616</td>\n",
              "    </tr>\n",
              "  </tbody>\n",
              "</table>\n",
              "</div>"
            ],
            "text/plain": [
              "     자치구  201901  201902  201903  ...  201909  201910  201911  201912\n",
              "0    강남구    1210    1210    1210  ...    1210    1210    1218    1218\n",
              "1    강동구     773     773     773  ...     773     773     763     763\n",
              "2    강북구     451     451     451  ...     451     451     451     451\n",
              "3    강서구    1014    1014    1014  ...    1014    1014    1002    1002\n",
              "4    관악구     652     652     652  ...     652     652     640     640\n",
              "5    광진구     793     793     793  ...     793     793     841     841\n",
              "6    구로구     728     728     728  ...     728     728     788     788\n",
              "7    금천구     540     540     540  ...     540     540     560     560\n",
              "8    노원구     850     850     850  ...     850     850     879     879\n",
              "9    도봉구     423     423     423  ...     423     423     396     396\n",
              "10  동대문구     653     653     653  ...     653     653     659     659\n",
              "11   동작구     501     501     501  ...     501     501     501     501\n",
              "12   마포구    1062    1062    1062  ...    1062    1062    1075    1075\n",
              "13  서대문구     695     695     695  ...     695     695     667     667\n",
              "14   서초구    1214    1214    1214  ...    1214    1214    1227    1227\n",
              "15   성동구     780     780     780  ...     780     780     780     780\n",
              "16   성북구     712     712     712  ...     712     712     726     726\n",
              "17   송파구    1279    1279    1279  ...    1279    1279    1298    1298\n",
              "18   양천구     663     663     663  ...     663     663     677     677\n",
              "19  영등포구    1258    1258    1258  ...    1258    1258    1258    1258\n",
              "20   용산구     558     558     558  ...     558     558     538     538\n",
              "21   은평구     688     688     688  ...     688     688     716     716\n",
              "22   종로구     715     715     715  ...     715     715     784     784\n",
              "23   중 구     465     465     465  ...     465     465     493     493\n",
              "24   중랑구     616     616     616  ...     616     616     616     616\n",
              "\n",
              "[25 rows x 13 columns]"
            ]
          },
          "metadata": {
            "tags": []
          },
          "execution_count": 3
        }
      ]
    },
    {
      "cell_type": "code",
      "metadata": {
        "colab": {
          "base_uri": "https://localhost:8080/"
        },
        "id": "W9GE5wXwSXHu",
        "outputId": "04a319c4-2cc8-4d2b-cffa-34d0ce46fe66"
      },
      "source": [
        "# gu_list = 0 강남구, 1 강동구 --- 24 중랑구 시리즈\n",
        "gu_list = dep_total_2019['자치구']\n",
        "print(gu_list)"
      ],
      "execution_count": 4,
      "outputs": [
        {
          "output_type": "stream",
          "text": [
            "0      강남구\n",
            "1      강동구\n",
            "2      강북구\n",
            "3      강서구\n",
            "4      관악구\n",
            "5      광진구\n",
            "6      구로구\n",
            "7      금천구\n",
            "8      노원구\n",
            "9      도봉구\n",
            "10    동대문구\n",
            "11     동작구\n",
            "12     마포구\n",
            "13    서대문구\n",
            "14     서초구\n",
            "15     성동구\n",
            "16     성북구\n",
            "17     송파구\n",
            "18     양천구\n",
            "19    영등포구\n",
            "20     용산구\n",
            "21     은평구\n",
            "22     종로구\n",
            "23     중 구\n",
            "24     중랑구\n",
            "Name: 자치구, dtype: object\n"
          ],
          "name": "stdout"
        }
      ]
    },
    {
      "cell_type": "code",
      "metadata": {
        "id": "EuSQcp2JxBEZ"
      },
      "source": [
        "# dep_list = 각 구 월별 배차수가 리스트로 0~24까지 ex) dep_list[0]은 강남구\n",
        "# dep_list = [dep_total_2019.loc[x][1:].astype('int64') for x in range(len(dep_total_2019))]\n",
        "# dep_list"
      ],
      "execution_count": 5,
      "outputs": []
    },
    {
      "cell_type": "code",
      "metadata": {
        "colab": {
          "base_uri": "https://localhost:8080/"
        },
        "id": "I9zpaubrx_dJ",
        "outputId": "8e8c034a-b62e-4087-dd6b-3256af1ae474"
      },
      "source": [
        "dep_mon_list = dep_total_2019.iloc[:, 1:].sum()\n",
        "dep_mon_list"
      ],
      "execution_count": 6,
      "outputs": [
        {
          "output_type": "execute_result",
          "data": {
            "text/plain": [
              "201901    19293\n",
              "201902    19293\n",
              "201903    19293\n",
              "201904    19293\n",
              "201905    19293\n",
              "201906    19293\n",
              "201907    19293\n",
              "201908    19293\n",
              "201909    19293\n",
              "201910    19293\n",
              "201911    19553\n",
              "201912    19553\n",
              "dtype: int64"
            ]
          },
          "metadata": {
            "tags": []
          },
          "execution_count": 6
        }
      ]
    },
    {
      "cell_type": "code",
      "metadata": {
        "colab": {
          "base_uri": "https://localhost:8080/"
        },
        "id": "s_ly_1e5zirp",
        "outputId": "c2759d16-77ad-47c7-d47c-4bb28d4b788f"
      },
      "source": [
        "rent_mon_list = rent_total_2019.iloc[:, 1:-1].sum()\n",
        "rent_mon_list"
      ],
      "execution_count": 7,
      "outputs": [
        {
          "output_type": "execute_result",
          "data": {
            "text/plain": [
              "201901     477844\n",
              "201902     444063\n",
              "201903     882383\n",
              "201904    1398500\n",
              "201905    2150968\n",
              "201906    2293724\n",
              "201907    2163870\n",
              "201908    2100936\n",
              "201909    2083965\n",
              "201910    2436210\n",
              "201911    1537112\n",
              "201912     881966\n",
              "dtype: int64"
            ]
          },
          "metadata": {
            "tags": []
          },
          "execution_count": 7
        }
      ]
    },
    {
      "cell_type": "markdown",
      "metadata": {
        "id": "6GUPqJur4_Aw"
      },
      "source": [
        "## 2019년 그래프\n",
        "- 2019년 전체 구 월별 공공자전거 총 배차수\n",
        "- 2019년 전체 구 월별 공공자전거 총 대여수\n",
        "- 2019년 전체 구 월별 공공자전거 총 이용량"
      ]
    },
    {
      "cell_type": "code",
      "metadata": {
        "colab": {
          "base_uri": "https://localhost:8080/",
          "height": 280
        },
        "id": "sqVVqQK907nx",
        "outputId": "67287ec9-38a8-43ab-a455-2e1957811ce9"
      },
      "source": [
        "plt.plot(dep_mon_list.index, dep_mon_list)\n",
        "plt.title('2019년 전체 구 월별 공공자전거 총 배차수')\n",
        "plt.show()"
      ],
      "execution_count": 29,
      "outputs": [
        {
          "output_type": "display_data",
          "data": {
            "image/png": "[encoded data removed]",
            "text/plain": [
              "<Figure size 432x288 with 1 Axes>"
            ]
          },
          "metadata": {
            "tags": [],
            "needs_background": "light"
          }
        }
      ]
    },
    {
      "cell_type": "code",
      "metadata": {
        "colab": {
          "base_uri": "https://localhost:8080/",
          "height": 280
        },
        "id": "eyyu3HKr1x8U",
        "outputId": "d5d1f66a-a7e0-4a29-fcc4-afd4101184b0"
      },
      "source": [
        "plt.plot(dep_mon_list.index, rent_mon_list)\n",
        "plt.title('2019년 전체 구 월별 공공자전거 총 대여수')\n",
        "plt.show()"
      ],
      "execution_count": 30,
      "outputs": [
        {
          "output_type": "display_data",
          "data": {
            "image/png": "[encoded data removed]",
            "text/plain": [
              "<Figure size 432x288 with 1 Axes>"
            ]
          },
          "metadata": {
            "tags": [],
            "needs_background": "light"
          }
        }
      ]
    },
    {
      "cell_type": "code",
      "metadata": {
        "colab": {
          "base_uri": "https://localhost:8080/",
          "height": 298
        },
        "id": "9SYi19pK2CNJ",
        "outputId": "b23b1c31-f705-4766-cfef-0a2f074dd2f3"
      },
      "source": [
        "avg_mon_list = rent_mon_list / dep_mon_list\n",
        "plt.title('2019년 전체 구 월별 대여율')\n",
        "plt.plot(dep_mon_list.index, avg_mon_list)"
      ],
      "execution_count": 31,
      "outputs": [
        {
          "output_type": "execute_result",
          "data": {
            "text/plain": [
              "[<matplotlib.lines.Line2D at 0x7fc0472bf4d0>]"
            ]
          },
          "metadata": {
            "tags": []
          },
          "execution_count": 31
        },
        {
          "output_type": "display_data",
          "data": {
            "image/png": "[encoded data removed]",
            "text/plain": [
              "<Figure size 432x288 with 1 Axes>"
            ]
          },
          "metadata": {
            "tags": [],
            "needs_background": "light"
          }
        }
      ]
    },
    {
      "cell_type": "code",
      "metadata": {
        "colab": {
          "base_uri": "https://localhost:8080/"
        },
        "id": "wORfbgia2MwA",
        "outputId": "206fbd9d-24e7-4de0-e345-8c71e7bf2f0d"
      },
      "source": [
        "dep_mon_list_20 = dep_total_2020.iloc[:, 1:].sum()\n",
        "dep_mon_list_20"
      ],
      "execution_count": 32,
      "outputs": [
        {
          "output_type": "execute_result",
          "data": {
            "text/plain": [
              "202001    19545\n",
              "202002    19865\n",
              "202003    19645\n",
              "202004    19545\n",
              "202005    19545\n",
              "202006    26818\n",
              "202007    26818\n",
              "202008    26818\n",
              "202009    26818\n",
              "202010    27052\n",
              "202011    27861\n",
              "202012    28365\n",
              "dtype: int64"
            ]
          },
          "metadata": {
            "tags": []
          },
          "execution_count": 32
        }
      ]
    },
    {
      "cell_type": "code",
      "metadata": {
        "colab": {
          "base_uri": "https://localhost:8080/"
        },
        "id": "kB5vwkGi3nxo",
        "outputId": "7ad6db5d-0f10-48be-e00c-8c1c4bab26e2"
      },
      "source": [
        "rent_mon_list_20 = rent_total_2020.iloc[:, 1:-1].sum()\n",
        "rent_mon_list_20"
      ],
      "execution_count": 17,
      "outputs": [
        {
          "output_type": "execute_result",
          "data": {
            "text/plain": [
              "202001     794105\n",
              "202002     767210\n",
              "202003    1533579\n",
              "202004    2156913\n",
              "202005    2480044\n",
              "202006    2770576\n",
              "202007    2582096\n",
              "202008    1734360\n",
              "202009    2811369\n",
              "202010    2891455\n",
              "202011    1990361\n",
              "202012    1196821\n",
              "dtype: int64"
            ]
          },
          "metadata": {
            "tags": []
          },
          "execution_count": 17
        }
      ]
    },
    {
      "cell_type": "markdown",
      "metadata": {
        "id": "oNWtOmqS5Q1v"
      },
      "source": [
        "## 2020년 그래프\n",
        "- 2020년 전체 구 월별 공공자전거 총 배차수\n",
        "- 2020년 전체 구 월별 공공자전거 총 대여수\n",
        "- 2020년 전체 구 월별 공공자전거 총 이용량"
      ]
    },
    {
      "cell_type": "code",
      "metadata": {
        "colab": {
          "base_uri": "https://localhost:8080/",
          "height": 280
        },
        "id": "77mStpHW3sYH",
        "outputId": "e91b4167-05e1-4616-fe85-59d3d3a8a768"
      },
      "source": [
        "plt.plot(dep_mon_list_20.index, dep_mon_list_20)\n",
        "plt.title('2020년 전체 구 월별 배차수')\n",
        "plt.show()"
      ],
      "execution_count": 35,
      "outputs": [
        {
          "output_type": "display_data",
          "data": {
            "image/png": "[encoded data removed]",
            "text/plain": [
              "<Figure size 432x288 with 1 Axes>"
            ]
          },
          "metadata": {
            "tags": [],
            "needs_background": "light"
          }
        }
      ]
    },
    {
      "cell_type": "code",
      "metadata": {
        "colab": {
          "base_uri": "https://localhost:8080/",
          "height": 280
        },
        "id": "53mnkG0Y31UZ",
        "outputId": "8978b649-9d52-4eda-ac6b-c66dd5a86622"
      },
      "source": [
        "plt.plot(dep_mon_list_20.index, rent_mon_list_20)\n",
        "plt.title('2020년 전체 구 월별 대여수')\n",
        "plt.show()"
      ],
      "execution_count": 34,
      "outputs": [
        {
          "output_type": "display_data",
          "data": {
            "image/png": "[encoded data removed]",
            "text/plain": [
              "<Figure size 432x288 with 1 Axes>"
            ]
          },
          "metadata": {
            "tags": [],
            "needs_background": "light"
          }
        }
      ]
    },
    {
      "cell_type": "code",
      "metadata": {
        "colab": {
          "base_uri": "https://localhost:8080/",
          "height": 280
        },
        "id": "YYUxCWAY34Ng",
        "outputId": "69be9b60-c220-4442-9f58-e1255b47b40e"
      },
      "source": [
        "avg_mon_list_20 = rent_mon_list_20 / dep_mon_list_20\n",
        "plt.plot(dep_mon_list_20.index, avg_mon_list_20)\n",
        "plt.title('2020년 전체 구 월별 이용량')\n",
        "plt.show()"
      ],
      "execution_count": 33,
      "outputs": [
        {
          "output_type": "display_data",
          "data": {
            "image/png": "[encoded data removed]",
            "text/plain": [
              "<Figure size 432x288 with 1 Axes>"
            ]
          },
          "metadata": {
            "tags": [],
            "needs_background": "light"
          }
        }
      ]
    },
    {
      "cell_type": "code",
      "metadata": {
        "id": "K6Y1_fG_4HMf"
      },
      "source": [
        ""
      ],
      "execution_count": null,
      "outputs": []
    }
  ]
}